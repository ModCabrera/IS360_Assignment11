{
 "cells": [
  {
   "cell_type": "markdown",
   "metadata": {},
   "source": [
    "# Week 11 Assignment : Aggregation"
   ]
  },
  {
   "cell_type": "markdown",
   "metadata": {},
   "source": [
    "* Importing pandas modules and matplotlib for Ipython Notebook operations."
   ]
  },
  {
   "cell_type": "code",
   "execution_count": 245,
   "metadata": {
    "collapsed": true
   },
   "outputs": [],
   "source": [
    "import pandas as pd\n",
    "from pandas import DataFrame, read_csv\n",
    "%matplotlib inline\n",
    "pd.options.display.max_rows = 200"
   ]
  },
  {
   "cell_type": "markdown",
   "metadata": {},
   "source": [
    "## Accessing / Opening the CSV file:"
   ]
  },
  {
   "cell_type": "markdown",
   "metadata": {},
   "source": [
    "Create the demographics object, for hold the data read from parsing through the file <i> us_demographics.csv </i>. \n",
    "* Below we will use the read_csv to load this into the notebook."
   ]
  },
  {
   "cell_type": "code",
   "execution_count": 246,
   "metadata": {
    "collapsed": true
   },
   "outputs": [],
   "source": [
    "demographics = pd.read_csv('us_demographics.csv', dtype={'id': int})"
   ]
  },
  {
   "cell_type": "code",
   "execution_count": 247,
   "metadata": {
    "collapsed": false
   },
   "outputs": [
    {
     "data": {
      "text/html": [
       "<div>\n",
       "<table border=\"1\" class=\"dataframe\">\n",
       "  <thead>\n",
       "    <tr style=\"text-align: right;\">\n",
       "      <th></th>\n",
       "      <th>Sex and age</th>\n",
       "      <th>2000</th>\n",
       "      <th>2010</th>\n",
       "    </tr>\n",
       "  </thead>\n",
       "  <tbody>\n",
       "    <tr>\n",
       "      <th>0</th>\n",
       "      <td>Male</td>\n",
       "      <td>138053563</td>\n",
       "      <td>151781326</td>\n",
       "    </tr>\n",
       "    <tr>\n",
       "      <th>1</th>\n",
       "      <td>Female</td>\n",
       "      <td>143368343</td>\n",
       "      <td>156964212</td>\n",
       "    </tr>\n",
       "    <tr>\n",
       "      <th>2</th>\n",
       "      <td>Under 5 years</td>\n",
       "      <td>19175798</td>\n",
       "      <td>20201362</td>\n",
       "    </tr>\n",
       "    <tr>\n",
       "      <th>3</th>\n",
       "      <td>5 to 9 years</td>\n",
       "      <td>20549505</td>\n",
       "      <td>20348657</td>\n",
       "    </tr>\n",
       "    <tr>\n",
       "      <th>4</th>\n",
       "      <td>10 to 14 years</td>\n",
       "      <td>20528072</td>\n",
       "      <td>20677194</td>\n",
       "    </tr>\n",
       "  </tbody>\n",
       "</table>\n",
       "</div>"
      ],
      "text/plain": [
       "      Sex and age       2000       2010\n",
       "0            Male  138053563  151781326\n",
       "1          Female  143368343  156964212\n",
       "2   Under 5 years   19175798   20201362\n",
       "3    5 to 9 years   20549505   20348657\n",
       "4  10 to 14 years   20528072   20677194"
      ]
     },
     "execution_count": 247,
     "metadata": {},
     "output_type": "execute_result"
    }
   ],
   "source": [
    "demographics.head()"
   ]
  },
  {
   "cell_type": "code",
   "execution_count": 248,
   "metadata": {
    "collapsed": false,
    "scrolled": false
   },
   "outputs": [],
   "source": [
    "demographics = pd.melt(demographics, id_vars=['Sex and age'],\n",
    "                     value_vars = ['2000', '2010'], value_name = 'Population')"
   ]
  },
  {
   "cell_type": "code",
   "execution_count": 249,
   "metadata": {
    "collapsed": false
   },
   "outputs": [],
   "source": [
    "demographics.columns = ['Sex / Age', 'Year', 'Population']"
   ]
  },
  {
   "cell_type": "code",
   "execution_count": 250,
   "metadata": {
    "collapsed": false
   },
   "outputs": [
    {
     "data": {
      "text/html": [
       "<div>\n",
       "<table border=\"1\" class=\"dataframe\">\n",
       "  <thead>\n",
       "    <tr style=\"text-align: right;\">\n",
       "      <th></th>\n",
       "      <th>Sex / Age</th>\n",
       "      <th>Year</th>\n",
       "      <th>Population</th>\n",
       "    </tr>\n",
       "  </thead>\n",
       "  <tbody>\n",
       "    <tr>\n",
       "      <th>0</th>\n",
       "      <td>Male</td>\n",
       "      <td>2000</td>\n",
       "      <td>138053563</td>\n",
       "    </tr>\n",
       "    <tr>\n",
       "      <th>1</th>\n",
       "      <td>Female</td>\n",
       "      <td>2000</td>\n",
       "      <td>143368343</td>\n",
       "    </tr>\n",
       "    <tr>\n",
       "      <th>2</th>\n",
       "      <td>Under 5 years</td>\n",
       "      <td>2000</td>\n",
       "      <td>19175798</td>\n",
       "    </tr>\n",
       "    <tr>\n",
       "      <th>3</th>\n",
       "      <td>5 to 9 years</td>\n",
       "      <td>2000</td>\n",
       "      <td>20549505</td>\n",
       "    </tr>\n",
       "    <tr>\n",
       "      <th>4</th>\n",
       "      <td>10 to 14 years</td>\n",
       "      <td>2000</td>\n",
       "      <td>20528072</td>\n",
       "    </tr>\n",
       "  </tbody>\n",
       "</table>\n",
       "</div>"
      ],
      "text/plain": [
       "        Sex / Age  Year  Population\n",
       "0            Male  2000   138053563\n",
       "1          Female  2000   143368343\n",
       "2   Under 5 years  2000    19175798\n",
       "3    5 to 9 years  2000    20549505\n",
       "4  10 to 14 years  2000    20528072"
      ]
     },
     "execution_count": 250,
     "metadata": {},
     "output_type": "execute_result"
    }
   ],
   "source": [
    "demographics.head()"
   ]
  },
  {
   "cell_type": "code",
   "execution_count": 251,
   "metadata": {
    "collapsed": false
   },
   "outputs": [],
   "source": [
    "demographics = demographics[demographics['Sex / Age'] != 'Male']\n",
    "demographics = demographics[demographics['Sex / Age'] != 'Female']"
   ]
  },
  {
   "cell_type": "code",
   "execution_count": 252,
   "metadata": {
    "collapsed": false
   },
   "outputs": [],
   "source": [
    "year2010 = demographics.loc[demographics['Year'] == '2010'].sum()['Population']\n",
    "year2000 = demographics.loc[demographics['Year'] == '2000'].sum()['Population']"
   ]
  },
  {
   "cell_type": "code",
   "execution_count": 253,
   "metadata": {
    "collapsed": false
   },
   "outputs": [
    {
     "data": {
      "text/html": [
       "<div>\n",
       "<table border=\"1\" class=\"dataframe\">\n",
       "  <thead>\n",
       "    <tr style=\"text-align: right;\">\n",
       "      <th></th>\n",
       "      <th>Sex / Age</th>\n",
       "      <th>Year</th>\n",
       "      <th>Population</th>\n",
       "    </tr>\n",
       "  </thead>\n",
       "  <tbody>\n",
       "    <tr>\n",
       "      <th>21</th>\n",
       "      <td>Under 5 years</td>\n",
       "      <td>2010</td>\n",
       "      <td>20201362</td>\n",
       "    </tr>\n",
       "    <tr>\n",
       "      <th>22</th>\n",
       "      <td>5 to 9 years</td>\n",
       "      <td>2010</td>\n",
       "      <td>20348657</td>\n",
       "    </tr>\n",
       "    <tr>\n",
       "      <th>23</th>\n",
       "      <td>10 to 14 years</td>\n",
       "      <td>2010</td>\n",
       "      <td>20677194</td>\n",
       "    </tr>\n",
       "    <tr>\n",
       "      <th>24</th>\n",
       "      <td>15 to 19 years</td>\n",
       "      <td>2010</td>\n",
       "      <td>22040343</td>\n",
       "    </tr>\n",
       "    <tr>\n",
       "      <th>25</th>\n",
       "      <td>20 to 24 years</td>\n",
       "      <td>2010</td>\n",
       "      <td>21585999</td>\n",
       "    </tr>\n",
       "    <tr>\n",
       "      <th>26</th>\n",
       "      <td>25 to 34 years</td>\n",
       "      <td>2010</td>\n",
       "      <td>41063948</td>\n",
       "    </tr>\n",
       "    <tr>\n",
       "      <th>27</th>\n",
       "      <td>35 to 44 years</td>\n",
       "      <td>2010</td>\n",
       "      <td>41070606</td>\n",
       "    </tr>\n",
       "    <tr>\n",
       "      <th>28</th>\n",
       "      <td>45 to 54 years</td>\n",
       "      <td>2010</td>\n",
       "      <td>45006716</td>\n",
       "    </tr>\n",
       "    <tr>\n",
       "      <th>29</th>\n",
       "      <td>55 to 59 years</td>\n",
       "      <td>2010</td>\n",
       "      <td>19664805</td>\n",
       "    </tr>\n",
       "    <tr>\n",
       "      <th>30</th>\n",
       "      <td>60 to 64 years</td>\n",
       "      <td>2010</td>\n",
       "      <td>16817924</td>\n",
       "    </tr>\n",
       "    <tr>\n",
       "      <th>31</th>\n",
       "      <td>65 to 74 years</td>\n",
       "      <td>2010</td>\n",
       "      <td>21713429</td>\n",
       "    </tr>\n",
       "    <tr>\n",
       "      <th>32</th>\n",
       "      <td>75 to 84 years</td>\n",
       "      <td>2010</td>\n",
       "      <td>13061122</td>\n",
       "    </tr>\n",
       "    <tr>\n",
       "      <th>33</th>\n",
       "      <td>85 years and over</td>\n",
       "      <td>2010</td>\n",
       "      <td>5493433</td>\n",
       "    </tr>\n",
       "    <tr>\n",
       "      <th>34</th>\n",
       "      <td>18 years and over</td>\n",
       "      <td>2010</td>\n",
       "      <td>234564071</td>\n",
       "    </tr>\n",
       "    <tr>\n",
       "      <th>35</th>\n",
       "      <td>21 years and over</td>\n",
       "      <td>2010</td>\n",
       "      <td>220958853</td>\n",
       "    </tr>\n",
       "    <tr>\n",
       "      <th>36</th>\n",
       "      <td>62 years and over</td>\n",
       "      <td>2010</td>\n",
       "      <td>49972181</td>\n",
       "    </tr>\n",
       "    <tr>\n",
       "      <th>37</th>\n",
       "      <td>65 years and over</td>\n",
       "      <td>2010</td>\n",
       "      <td>40267984</td>\n",
       "    </tr>\n",
       "  </tbody>\n",
       "</table>\n",
       "</div>"
      ],
      "text/plain": [
       "            Sex / Age  Year  Population\n",
       "21      Under 5 years  2010    20201362\n",
       "22       5 to 9 years  2010    20348657\n",
       "23     10 to 14 years  2010    20677194\n",
       "24     15 to 19 years  2010    22040343\n",
       "25     20 to 24 years  2010    21585999\n",
       "26     25 to 34 years  2010    41063948\n",
       "27     35 to 44 years  2010    41070606\n",
       "28     45 to 54 years  2010    45006716\n",
       "29     55 to 59 years  2010    19664805\n",
       "30     60 to 64 years  2010    16817924\n",
       "31     65 to 74 years  2010    21713429\n",
       "32     75 to 84 years  2010    13061122\n",
       "33  85 years and over  2010     5493433\n",
       "34  18 years and over  2010   234564071\n",
       "35  21 years and over  2010   220958853\n",
       "36  62 years and over  2010    49972181\n",
       "37  65 years and over  2010    40267984"
      ]
     },
     "execution_count": 253,
     "metadata": {},
     "output_type": "execute_result"
    }
   ],
   "source": [
    "demographics[demographics['Year'] != '2000']"
   ]
  },
  {
   "cell_type": "code",
   "execution_count": 254,
   "metadata": {
    "collapsed": false
   },
   "outputs": [
    {
     "data": {
      "text/html": [
       "<div>\n",
       "<table border=\"1\" class=\"dataframe\">\n",
       "  <thead>\n",
       "    <tr style=\"text-align: right;\">\n",
       "      <th></th>\n",
       "      <th>Sex / Age</th>\n",
       "      <th>Year</th>\n",
       "      <th>Population</th>\n",
       "    </tr>\n",
       "  </thead>\n",
       "  <tbody>\n",
       "    <tr>\n",
       "      <th>2</th>\n",
       "      <td>Under 5 years</td>\n",
       "      <td>2000</td>\n",
       "      <td>19175798</td>\n",
       "    </tr>\n",
       "    <tr>\n",
       "      <th>3</th>\n",
       "      <td>5 to 9 years</td>\n",
       "      <td>2000</td>\n",
       "      <td>20549505</td>\n",
       "    </tr>\n",
       "    <tr>\n",
       "      <th>4</th>\n",
       "      <td>10 to 14 years</td>\n",
       "      <td>2000</td>\n",
       "      <td>20528072</td>\n",
       "    </tr>\n",
       "    <tr>\n",
       "      <th>5</th>\n",
       "      <td>15 to 19 years</td>\n",
       "      <td>2000</td>\n",
       "      <td>20219890</td>\n",
       "    </tr>\n",
       "    <tr>\n",
       "      <th>6</th>\n",
       "      <td>20 to 24 years</td>\n",
       "      <td>2000</td>\n",
       "      <td>18964001</td>\n",
       "    </tr>\n",
       "    <tr>\n",
       "      <th>7</th>\n",
       "      <td>25 to 34 years</td>\n",
       "      <td>2000</td>\n",
       "      <td>39891724</td>\n",
       "    </tr>\n",
       "    <tr>\n",
       "      <th>8</th>\n",
       "      <td>35 to 44 years</td>\n",
       "      <td>2000</td>\n",
       "      <td>45148527</td>\n",
       "    </tr>\n",
       "    <tr>\n",
       "      <th>9</th>\n",
       "      <td>45 to 54 years</td>\n",
       "      <td>2000</td>\n",
       "      <td>37677952</td>\n",
       "    </tr>\n",
       "    <tr>\n",
       "      <th>10</th>\n",
       "      <td>55 to 59 years</td>\n",
       "      <td>2000</td>\n",
       "      <td>13469237</td>\n",
       "    </tr>\n",
       "    <tr>\n",
       "      <th>11</th>\n",
       "      <td>60 to 64 years</td>\n",
       "      <td>2000</td>\n",
       "      <td>10805447</td>\n",
       "    </tr>\n",
       "    <tr>\n",
       "      <th>12</th>\n",
       "      <td>65 to 74 years</td>\n",
       "      <td>2000</td>\n",
       "      <td>18390986</td>\n",
       "    </tr>\n",
       "    <tr>\n",
       "      <th>13</th>\n",
       "      <td>75 to 84 years</td>\n",
       "      <td>2000</td>\n",
       "      <td>12361180</td>\n",
       "    </tr>\n",
       "    <tr>\n",
       "      <th>14</th>\n",
       "      <td>85 years and over</td>\n",
       "      <td>2000</td>\n",
       "      <td>4239587</td>\n",
       "    </tr>\n",
       "    <tr>\n",
       "      <th>15</th>\n",
       "      <td>18 years and over</td>\n",
       "      <td>2000</td>\n",
       "      <td>209128094</td>\n",
       "    </tr>\n",
       "    <tr>\n",
       "      <th>16</th>\n",
       "      <td>21 years and over</td>\n",
       "      <td>2000</td>\n",
       "      <td>196899193</td>\n",
       "    </tr>\n",
       "    <tr>\n",
       "      <th>17</th>\n",
       "      <td>62 years and over</td>\n",
       "      <td>2000</td>\n",
       "      <td>41256029</td>\n",
       "    </tr>\n",
       "    <tr>\n",
       "      <th>18</th>\n",
       "      <td>65 years and over</td>\n",
       "      <td>2000</td>\n",
       "      <td>34991753</td>\n",
       "    </tr>\n",
       "  </tbody>\n",
       "</table>\n",
       "</div>"
      ],
      "text/plain": [
       "            Sex / Age  Year  Population\n",
       "2       Under 5 years  2000    19175798\n",
       "3        5 to 9 years  2000    20549505\n",
       "4      10 to 14 years  2000    20528072\n",
       "5      15 to 19 years  2000    20219890\n",
       "6      20 to 24 years  2000    18964001\n",
       "7      25 to 34 years  2000    39891724\n",
       "8      35 to 44 years  2000    45148527\n",
       "9      45 to 54 years  2000    37677952\n",
       "10     55 to 59 years  2000    13469237\n",
       "11     60 to 64 years  2000    10805447\n",
       "12     65 to 74 years  2000    18390986\n",
       "13     75 to 84 years  2000    12361180\n",
       "14  85 years and over  2000     4239587\n",
       "15  18 years and over  2000   209128094\n",
       "16  21 years and over  2000   196899193\n",
       "17  62 years and over  2000    41256029\n",
       "18  65 years and over  2000    34991753"
      ]
     },
     "execution_count": 254,
     "metadata": {},
     "output_type": "execute_result"
    }
   ],
   "source": [
    "demographics[demographics['Year'] != '2010']"
   ]
  },
  {
   "cell_type": "code",
   "execution_count": 255,
   "metadata": {
    "collapsed": false
   },
   "outputs": [
    {
     "data": {
      "text/html": [
       "<div>\n",
       "<table border=\"1\" class=\"dataframe\">\n",
       "  <thead>\n",
       "    <tr style=\"text-align: right;\">\n",
       "      <th></th>\n",
       "      <th>Population</th>\n",
       "    </tr>\n",
       "  </thead>\n",
       "  <tbody>\n",
       "    <tr>\n",
       "      <th>count</th>\n",
       "      <td>3.400000e+01</td>\n",
       "    </tr>\n",
       "    <tr>\n",
       "      <th>mean</th>\n",
       "      <td>4.759428e+07</td>\n",
       "    </tr>\n",
       "    <tr>\n",
       "      <th>std</th>\n",
       "      <td>6.352121e+07</td>\n",
       "    </tr>\n",
       "    <tr>\n",
       "      <th>min</th>\n",
       "      <td>4.239587e+06</td>\n",
       "    </tr>\n",
       "    <tr>\n",
       "      <th>25%</th>\n",
       "      <td>1.901695e+07</td>\n",
       "    </tr>\n",
       "    <tr>\n",
       "      <th>50%</th>\n",
       "      <td>2.113160e+07</td>\n",
       "    </tr>\n",
       "    <tr>\n",
       "      <th>75%</th>\n",
       "      <td>4.106894e+07</td>\n",
       "    </tr>\n",
       "    <tr>\n",
       "      <th>max</th>\n",
       "      <td>2.345641e+08</td>\n",
       "    </tr>\n",
       "  </tbody>\n",
       "</table>\n",
       "</div>"
      ],
      "text/plain": [
       "         Population\n",
       "count  3.400000e+01\n",
       "mean   4.759428e+07\n",
       "std    6.352121e+07\n",
       "min    4.239587e+06\n",
       "25%    1.901695e+07\n",
       "50%    2.113160e+07\n",
       "75%    4.106894e+07\n",
       "max    2.345641e+08"
      ]
     },
     "execution_count": 255,
     "metadata": {},
     "output_type": "execute_result"
    }
   ],
   "source": [
    "demographics.describe()"
   ]
  },
  {
   "cell_type": "code",
   "execution_count": 256,
   "metadata": {
    "collapsed": false
   },
   "outputs": [
    {
     "data": {
      "text/html": [
       "<div>\n",
       "<table border=\"1\" class=\"dataframe\">\n",
       "  <thead>\n",
       "    <tr style=\"text-align: right;\">\n",
       "      <th>Year</th>\n",
       "      <th>2000</th>\n",
       "      <th>2010</th>\n",
       "    </tr>\n",
       "    <tr>\n",
       "      <th>row_0</th>\n",
       "      <th></th>\n",
       "      <th></th>\n",
       "    </tr>\n",
       "  </thead>\n",
       "  <tbody>\n",
       "    <tr>\n",
       "      <th>Age Groups per Year</th>\n",
       "      <td>17</td>\n",
       "      <td>17</td>\n",
       "    </tr>\n",
       "  </tbody>\n",
       "</table>\n",
       "</div>"
      ],
      "text/plain": [
       "Year                 2000  2010\n",
       "row_0                          \n",
       "Age Groups per Year    17    17"
      ]
     },
     "execution_count": 256,
     "metadata": {},
     "output_type": "execute_result"
    }
   ],
   "source": [
    "pd.crosstab(['Age Groups per Year'], demographics.Year)"
   ]
  }
 ],
 "metadata": {
  "kernelspec": {
   "display_name": "Python 2",
   "language": "python",
   "name": "python2"
  },
  "language_info": {
   "codemirror_mode": {
    "name": "ipython",
    "version": 2
   },
   "file_extension": ".py",
   "mimetype": "text/x-python",
   "name": "python",
   "nbconvert_exporter": "python",
   "pygments_lexer": "ipython2",
   "version": "2.7.10"
  }
 },
 "nbformat": 4,
 "nbformat_minor": 0
}
